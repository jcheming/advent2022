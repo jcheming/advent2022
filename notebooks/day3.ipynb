{
 "cells": [
  {
   "cell_type": "code",
   "execution_count": 4,
   "metadata": {},
   "outputs": [],
   "source": [
    "examples = [\"vJrwpWtwJgWrhcsFMMfFFhFp\",\n",
    "\"jqHRNqRjqzjGDLGLrsFMfFZSrLrFZsSL\",\n",
    "\"PmmdzqPrVvPwwTWBwg\",\n",
    "\"wMqvLMZHhHMvwLHjbvcjnnSBnvTQFn\",\n",
    "\"ttgJtRGJQctTZtZT\",\n",
    "\"CrZsJsPPZsGzwwsLwLmpwMDw\"]"
   ]
  },
  {
   "cell_type": "code",
   "execution_count": 14,
   "metadata": {},
   "outputs": [],
   "source": [
    "rucksacks = []\n",
    "with open(\"inputs/inputday3.txt\") as f:\n",
    "    for line in f.readlines():\n",
    "        rucksacks.append(line.strip(\"\\n\"))"
   ]
  },
  {
   "cell_type": "code",
   "execution_count": 16,
   "metadata": {},
   "outputs": [
    {
     "data": {
      "text/plain": [
       "8088"
      ]
     },
     "execution_count": 16,
     "metadata": {},
     "output_type": "execute_result"
    }
   ],
   "source": [
    "def uniquer(compartment):\n",
    "    uniques = set()\n",
    "    for letter in compartment:\n",
    "        uniques.add(letter)\n",
    "    return uniques\n",
    "\n",
    "def compartments_maker(rucksack):\n",
    "    half = round(len(rucksack)/2)\n",
    "    compartment1 = uniquer(rucksack[:half])\n",
    "    compartment2 = uniquer(rucksack[half:])\n",
    "\n",
    "    return list(compartment1.intersection(compartment2))\n",
    "\n",
    "def letter_values(letter):\n",
    "    if letter.islower():\n",
    "        return ord(letter) - 96\n",
    "    else:\n",
    "        return ord(letter) - 64 + 26\n",
    "\n",
    "overlaps = [compartments_maker(rucksack) for rucksack in rucksacks]\n",
    "\n",
    "priorities = []\n",
    "for rucksack in overlaps:\n",
    "    for letter in rucksack:\n",
    "        priorities.append(letter_values(letter))\n",
    "\n",
    "sum(priorities)\n",
    "\n"
   ]
  },
  {
   "cell_type": "code",
   "execution_count": 26,
   "metadata": {},
   "outputs": [
    {
     "name": "stdout",
     "output_type": "stream",
     "text": [
      "['vJrwpWtwJgWrhcsFMMfFFhFp', 'jqHRNqRjqzjGDLGLrsFMfFZSrLrFZsSL', 'PmmdzqPrVvPwwTWBwg']\n",
      "vJrwpWtwJgWrhcsFMMfFFhFp\n"
     ]
    },
    {
     "data": {
      "text/plain": [
       "[{'F', 'J', 'M', 'W', 'c', 'f', 'g', 'h', 'p', 'r', 's', 't', 'v', 'w'}]"
      ]
     },
     "execution_count": 26,
     "metadata": {},
     "output_type": "execute_result"
    }
   ],
   "source": [
    "# NOT DONE\n",
    "\n",
    "group1 = [\"vJrwpWtwJgWrhcsFMMfFFhFp\",\"jqHRNqRjqzjGDLGLrsFMfFZSrLrFZsSL\",\"PmmdzqPrVvPwwTWBwg\"]\n",
    "group2 = [\"wMqvLMZHhHMvwLHjbvcjnnSBnvTQFn\",\"ttgJtRGJQctTZtZT\",\"CrZsJsPPZsGzwwsLwLmpwMDw\"]\n",
    "# split into elf groups (3)\n",
    "\n",
    "# make a set of unique letters for each rucksack in group\n",
    "\n",
    "\n",
    "\n",
    "def badger(group):\n",
    "    sets = []\n",
    "    print(group)\n",
    "    for rucksack in group:\n",
    "        print(rucksack)\n",
    "        sets.append(uniquer(rucksack))\n",
    "        return sets\n",
    "\n",
    "badger(group1)\n",
    "# find the intersection across three rucksacks\n",
    "\n",
    "# convert unique letter to priority\n",
    "\n",
    "# sum priorities for all groups"
   ]
  }
 ],
 "metadata": {
  "kernelspec": {
   "display_name": "Python 3.11.0 64-bit",
   "language": "python",
   "name": "python3"
  },
  "language_info": {
   "codemirror_mode": {
    "name": "ipython",
    "version": 3
   },
   "file_extension": ".py",
   "mimetype": "text/x-python",
   "name": "python",
   "nbconvert_exporter": "python",
   "pygments_lexer": "ipython3",
   "version": "3.11.0"
  },
  "orig_nbformat": 4,
  "vscode": {
   "interpreter": {
    "hash": "5238573367df39f7286bb46f9ff5f08f63a01a80960060ce41e3c79b190280fa"
   }
  }
 },
 "nbformat": 4,
 "nbformat_minor": 2
}
