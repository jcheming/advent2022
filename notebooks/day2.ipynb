{
 "cells": [
  {
   "cell_type": "code",
   "execution_count": 57,
   "metadata": {},
   "outputs": [],
   "source": [
    "games = []\n",
    "\n",
    "with open(\"inputs/inputday2.txt\") as f:\n",
    "    for line in f.readlines():\n",
    "        game = line.strip(\"\\n\").split(\" \")\n",
    "        games.append(game)"
   ]
  },
  {
   "cell_type": "code",
   "execution_count": 44,
   "metadata": {},
   "outputs": [
    {
     "data": {
      "text/plain": [
       "13682"
      ]
     },
     "execution_count": 44,
     "metadata": {},
     "output_type": "execute_result"
    }
   ],
   "source": [
    "def scoring_1(game):\n",
    "    sign_convert = {\"X\":\"A\",\"Y\":\"B\",\"Z\":\"C\"}\n",
    "    sign_scores = {\"A\":1,\"B\":2,\"C\":3}\n",
    "    game[1] = sign_convert[game[1]]\n",
    "    if game[0] == game[1]:\n",
    "        return 3 + sign_scores[game[1]]\n",
    "\n",
    "    elif game[0] == \"A\":\n",
    "        if game[1] == \"B\":\n",
    "            return 6 + sign_scores[game[1]]\n",
    "        else:\n",
    "            return sign_scores[game[1]]\n",
    "    elif game[0] == \"B\":\n",
    "        if game[1] == \"C\":\n",
    "            return 6 + sign_scores[game[1]]\n",
    "        else:\n",
    "            return sign_scores[game[1]]\n",
    "    elif game[0] == \"C\":\n",
    "        if game[1] == \"A\":\n",
    "            return 6 + sign_scores[game[1]]\n",
    "        else:\n",
    "            return sign_scores[game[1]]\n",
    "\n",
    "# Create list of scores for all games\n",
    "scores_1 = [scoring_1(game) for game in games]\n",
    "# Score Total\n",
    "sum(scores_1)"
   ]
  },
  {
   "cell_type": "code",
   "execution_count": 48,
   "metadata": {},
   "outputs": [],
   "source": [
    "debug_games = [[\"A\",\"X\"],[\"A\",\"Y\"],[\"A\",\"Z\"],\n",
    "               [\"B\",\"X\"],[\"B\",\"Y\"],[\"B\",\"Z\"],\n",
    "               [\"C\",\"X\"],[\"C\",\"Y\"],[\"C\",\"Z\"]]"
   ]
  },
  {
   "cell_type": "code",
   "execution_count": 58,
   "metadata": {},
   "outputs": [
    {
     "data": {
      "text/plain": [
       "12881"
      ]
     },
     "execution_count": 58,
     "metadata": {},
     "output_type": "execute_result"
    }
   ],
   "source": [
    "# X = lose Y = tie Z = win\n",
    "# A = rock B = paper C = scissors\n",
    "\n",
    "\n",
    "def scoring_2(game):\n",
    "\n",
    "    sign_scores = {\"A\":1,\"B\":2,\"C\":3}\n",
    "    outcome_scores = {\"X\":0,\"Y\":3,\"Z\":6}\n",
    "    outcome_pts = outcome_scores[game[1]]\n",
    "    sign_pts = 0\n",
    "\n",
    "    win_loss_lookup = {\"A\":{\"X\":\"C\",\"Z\":\"B\"},\n",
    "                       \"B\":{\"X\":\"A\",\"Z\":\"C\"},\n",
    "                       \"C\":{\"X\":\"B\",\"Z\":\"A\"}}\n",
    "    \n",
    "    # Tie\n",
    "    if game[1] == \"Y\":\n",
    "        sign_pts = sign_scores[game[0]]\n",
    "    else:\n",
    "        sign_pts = sign_scores[win_loss_lookup[game[0]][game[1]]] \n",
    "   \n",
    "\n",
    "    \n",
    "    return sign_pts + outcome_pts\n",
    "\n",
    "# Sum points across all games\n",
    "\n",
    "scores_2 = [scoring_2(game) for game in games]\n",
    "# print(scores_2)\n",
    "\n",
    "sum(scores_2)"
   ]
  }
 ],
 "metadata": {
  "kernelspec": {
   "display_name": "Python 3.11.0 64-bit",
   "language": "python",
   "name": "python3"
  },
  "language_info": {
   "codemirror_mode": {
    "name": "ipython",
    "version": 3
   },
   "file_extension": ".py",
   "mimetype": "text/x-python",
   "name": "python",
   "nbconvert_exporter": "python",
   "pygments_lexer": "ipython3",
   "version": "3.11.0"
  },
  "orig_nbformat": 4,
  "vscode": {
   "interpreter": {
    "hash": "5238573367df39f7286bb46f9ff5f08f63a01a80960060ce41e3c79b190280fa"
   }
  }
 },
 "nbformat": 4,
 "nbformat_minor": 2
}
