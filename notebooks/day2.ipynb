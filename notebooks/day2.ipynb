{
 "cells": [
  {
   "cell_type": "code",
   "execution_count": 88,
   "metadata": {},
   "outputs": [],
   "source": [
    "games = []\n",
    "\n",
    "with open(\"inputs/inputday2.txt\") as f:\n",
    "    for line in f.readlines():\n",
    "        game = line.strip(\"\\n\").split(\" \")\n",
    "        games.append(game)"
   ]
  },
  {
   "cell_type": "code",
   "execution_count": 89,
   "metadata": {},
   "outputs": [
    {
     "data": {
      "text/plain": [
       "[['C', 'Z'], ['C', 'Z'], ['C', 'Y']]"
      ]
     },
     "execution_count": 89,
     "metadata": {},
     "output_type": "execute_result"
    }
   ],
   "source": [
    "games[:3]"
   ]
  },
  {
   "cell_type": "code",
   "execution_count": 90,
   "metadata": {},
   "outputs": [],
   "source": [
    "def scoring_1(game_list):\n",
    "    sign_convert = {\"X\":\"A\",\"Y\":\"B\",\"Z\":\"C\"}\n",
    "    sign_scores = {\"A\":1,\"B\":2,\"C\":3}\n",
    "    game_list[1] = sign_convert[game_list[1]]\n",
    "    if game_list[0] == game_list[1]:\n",
    "        return 3 + sign_scores[game_list[1]]\n",
    "\n",
    "    elif game_list[0] == \"A\":\n",
    "        if game_list[1] == \"B\":\n",
    "            return 6 + sign_scores[game_list[1]]\n",
    "        else:\n",
    "            return sign_scores[game_list[1]]\n",
    "    elif game_list[0] == \"B\":\n",
    "        if game_list[1] == \"C\":\n",
    "            return 6 + sign_scores[game_list[1]]\n",
    "        else:\n",
    "            return sign_scores[game_list[1]]\n",
    "    elif game_list[0] == \"C\":\n",
    "        if game_list[1] == \"A\":\n",
    "            return 6 + sign_scores[game_list[1]]\n",
    "        else:\n",
    "            return sign_scores[game_list[1]]\n"
   ]
  },
  {
   "cell_type": "code",
   "execution_count": 91,
   "metadata": {},
   "outputs": [
    {
     "data": {
      "text/plain": [
       "13682"
      ]
     },
     "execution_count": 91,
     "metadata": {},
     "output_type": "execute_result"
    }
   ],
   "source": [
    "scores = [scoring_1(game) for game in games]\n",
    "sum(scores)"
   ]
  }
 ],
 "metadata": {
  "kernelspec": {
   "display_name": "Python 3.11.0 64-bit",
   "language": "python",
   "name": "python3"
  },
  "language_info": {
   "codemirror_mode": {
    "name": "ipython",
    "version": 3
   },
   "file_extension": ".py",
   "mimetype": "text/x-python",
   "name": "python",
   "nbconvert_exporter": "python",
   "pygments_lexer": "ipython3",
   "version": "3.11.0"
  },
  "orig_nbformat": 4,
  "vscode": {
   "interpreter": {
    "hash": "5238573367df39f7286bb46f9ff5f08f63a01a80960060ce41e3c79b190280fa"
   }
  }
 },
 "nbformat": 4,
 "nbformat_minor": 2
}
