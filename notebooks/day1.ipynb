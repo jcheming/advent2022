{
 "cells": [
  {
   "cell_type": "code",
   "execution_count": 20,
   "metadata": {},
   "outputs": [
    {
     "name": "stdout",
     "output_type": "stream",
     "text": [
      "Most calories is 72718\n",
      "Total Calories for top 3: 213089\n"
     ]
    }
   ],
   "source": [
    "elfcount = 1\n",
    "elf_totals = {}\n",
    "with open(\"inputs/inputday1.txt\") as f:\n",
    "    for line in f.readlines():\n",
    "        if line != \"\\n\":\n",
    "            if elfcount in elf_totals.keys():\n",
    "                elf_totals[elfcount] = elf_totals[elfcount] + int(line.strip(\"\\n\")) \n",
    "            else:\n",
    "                elf_totals[elfcount] = int(line)\n",
    "        else:\n",
    "            elfcount += 1\n",
    "\n",
    "print(f\"Most calories is {max(elf_totals.values())}\")\n",
    "\n",
    "top_3 = sorted(elf_totals.items(), key=lambda item : item[1])[len(elf_totals)-3:]\n",
    "print(f'Total Calories for top 3: {sum([calories[1] for calories in top_3])}')\n"
   ]
  }
 ],
 "metadata": {
  "kernelspec": {
   "display_name": "Python 3.11.0 64-bit",
   "language": "python",
   "name": "python3"
  },
  "language_info": {
   "codemirror_mode": {
    "name": "ipython",
    "version": 3
   },
   "file_extension": ".py",
   "mimetype": "text/x-python",
   "name": "python",
   "nbconvert_exporter": "python",
   "pygments_lexer": "ipython3",
   "version": "3.11.0"
  },
  "orig_nbformat": 4,
  "vscode": {
   "interpreter": {
    "hash": "5238573367df39f7286bb46f9ff5f08f63a01a80960060ce41e3c79b190280fa"
   }
  }
 },
 "nbformat": 4,
 "nbformat_minor": 2
}
