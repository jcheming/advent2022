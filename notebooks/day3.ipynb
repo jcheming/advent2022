{
 "cells": [
  {
   "cell_type": "code",
   "execution_count": 62,
   "metadata": {},
   "outputs": [],
   "source": [
    "examples = [\"vJrwpWtwJgWrhcsFMMfFFhFp\",\n",
    "\"jqHRNqRjqzjGDLGLrsFMfFZSrLrFZsSL\",\n",
    "\"PmmdzqPrVvPwwTWBwg\",\n",
    "\"wMqvLMZHhHMvwLHjbvcjnnSBnvTQFn\",\n",
    "\"ttgJtRGJQctTZtZT\",\n",
    "\"CrZsJsPPZsGzwwsLwLmpwMDw\"]"
   ]
  },
  {
   "cell_type": "code",
   "execution_count": 63,
   "metadata": {},
   "outputs": [],
   "source": [
    "rucksacks = []\n",
    "with open(\"inputs/inputday3.txt\") as f:\n",
    "    for line in f.readlines():\n",
    "        rucksacks.append(line.strip(\"\\n\"))"
   ]
  },
  {
   "cell_type": "code",
   "execution_count": 64,
   "metadata": {},
   "outputs": [
    {
     "data": {
      "text/plain": [
       "8088"
      ]
     },
     "execution_count": 64,
     "metadata": {},
     "output_type": "execute_result"
    }
   ],
   "source": [
    "def uniquer(compartment):\n",
    "    uniques = set()\n",
    "    for letter in compartment:\n",
    "        uniques.add(letter)\n",
    "    return uniques\n",
    "\n",
    "def compartments_maker(rucksack):\n",
    "    half = round(len(rucksack)/2)\n",
    "    compartment1 = uniquer(rucksack[:half])\n",
    "    compartment2 = uniquer(rucksack[half:])\n",
    "\n",
    "    return list(compartment1.intersection(compartment2))\n",
    "\n",
    "def letter_values(letter):\n",
    "    if letter.islower():\n",
    "        return ord(letter) - 96\n",
    "    else:\n",
    "        return ord(letter) - 64 + 26\n",
    "\n",
    "overlaps = [compartments_maker(rucksack) for rucksack in rucksacks]\n",
    "\n",
    "priorities = []\n",
    "for rucksack in overlaps:\n",
    "    for letter in rucksack:\n",
    "        priorities.append(letter_values(letter))\n",
    "\n",
    "sum(priorities)\n",
    "\n"
   ]
  },
  {
   "cell_type": "code",
   "execution_count": 81,
   "metadata": {},
   "outputs": [
    {
     "data": {
      "text/plain": [
       "2522"
      ]
     },
     "execution_count": 81,
     "metadata": {},
     "output_type": "execute_result"
    }
   ],
   "source": [
    "\n",
    "def intersector(list_of_three_sets):\n",
    "    remain = list_of_three_sets[0].intersection(list_of_three_sets[1],list_of_three_sets[2])\n",
    "    return list(remain)[0]\n",
    "\n",
    "def badger(group):\n",
    "    sets = []\n",
    "    for rucksack in group:\n",
    "        sets.append(uniquer(rucksack))\n",
    "    return intersector(sets)\n",
    "\n",
    "rucksacks_2 = []\n",
    "with open(\"inputs/inputday3.txt\") as f:\n",
    "    \n",
    "    holder = []\n",
    "    for line in f.readlines():\n",
    "        holder.append(line.strip(\"\\n\"))\n",
    "        if len(holder) == 3:\n",
    "            rucksacks_2.append(holder)\n",
    "            holder = []\n",
    "         \n",
    "# Test case\n",
    "# group1 = [\"vJrwpWtwJgWrhcsFMMfFFhFp\",\"jqHRNqRjqzjGDLGLrsFMfFZSrLrFZsSL\",\"PmmdzqPrVvPwwTWBwg\"]\n",
    "# group2 = [\"wMqvLMZHhHMvwLHjbvcjnnSBnvTQFn\",\"ttgJtRGJQctTZtZT\",\"CrZsJsPPZsGzwwsLwLmpwMDw\"]\n",
    "# groups = [group1,group2]\n",
    "\n",
    "badges = [badger(ruck) for ruck in rucksacks_2]\n",
    "vals = [letter_values(badge) for badge in badges]\n",
    "sum(vals)\n"
   ]
  }
 ],
 "metadata": {
  "kernelspec": {
   "display_name": "Python 3.11.0 64-bit",
   "language": "python",
   "name": "python3"
  },
  "language_info": {
   "codemirror_mode": {
    "name": "ipython",
    "version": 3
   },
   "file_extension": ".py",
   "mimetype": "text/x-python",
   "name": "python",
   "nbconvert_exporter": "python",
   "pygments_lexer": "ipython3",
   "version": "3.11.0"
  },
  "orig_nbformat": 4,
  "vscode": {
   "interpreter": {
    "hash": "5238573367df39f7286bb46f9ff5f08f63a01a80960060ce41e3c79b190280fa"
   }
  }
 },
 "nbformat": 4,
 "nbformat_minor": 2
}
